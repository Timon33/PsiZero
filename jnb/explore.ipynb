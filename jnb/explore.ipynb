{
 "metadata": {
  "language_info": {
   "codemirror_mode": {
    "name": "ipython",
    "version": 3
   },
   "file_extension": ".py",
   "mimetype": "text/x-python",
   "name": "python",
   "nbconvert_exporter": "python",
   "pygments_lexer": "ipython3",
   "version": "3.8.5-final"
  },
  "orig_nbformat": 2,
  "kernelspec": {
   "name": "python3",
   "display_name": "Python 3",
   "language": "python"
  }
 },
 "nbformat": 4,
 "nbformat_minor": 2,
 "cells": [
  {
   "cell_type": "code",
   "execution_count": 1,
   "metadata": {},
   "outputs": [],
   "source": [
    "# import surge\n",
    "import numpy\n",
    "import torch\n",
    "import chess\n",
    "\n",
    "# surge.init()"
   ]
  },
  {
   "cell_type": "code",
   "execution_count": 2,
   "metadata": {},
   "outputs": [
    {
     "output_type": "error",
     "ename": "NameError",
     "evalue": "name 'surge' is not defined",
     "traceback": [
      "\u001b[0;31m---------------------------------------------------------------------------\u001b[0m",
      "\u001b[0;31mNameError\u001b[0m                                 Traceback (most recent call last)",
      "\u001b[0;32m<ipython-input-2-005e038ce4e6>\u001b[0m in \u001b[0;36m<module>\u001b[0;34m\u001b[0m\n\u001b[1;32m      1\u001b[0m \u001b[0;31m# print surge pos using the chess module\u001b[0m\u001b[0;34m\u001b[0m\u001b[0;34m\u001b[0m\u001b[0;34m\u001b[0m\u001b[0m\n\u001b[0;32m----> 2\u001b[0;31m \u001b[0;32mdef\u001b[0m \u001b[0mpprint_pos\u001b[0m\u001b[0;34m(\u001b[0m\u001b[0mposition\u001b[0m\u001b[0;34m:\u001b[0m \u001b[0msurge\u001b[0m\u001b[0;34m.\u001b[0m\u001b[0mPosition\u001b[0m\u001b[0;34m)\u001b[0m\u001b[0;34m:\u001b[0m\u001b[0;34m\u001b[0m\u001b[0;34m\u001b[0m\u001b[0m\n\u001b[0m\u001b[1;32m      3\u001b[0m     \u001b[0mprint\u001b[0m\u001b[0;34m(\u001b[0m\u001b[0mchess\u001b[0m\u001b[0;34m.\u001b[0m\u001b[0mBoard\u001b[0m\u001b[0;34m(\u001b[0m\u001b[0mposition\u001b[0m\u001b[0;34m.\u001b[0m\u001b[0mfen\u001b[0m\u001b[0;34m(\u001b[0m\u001b[0;34m)\u001b[0m\u001b[0;34m)\u001b[0m\u001b[0;34m)\u001b[0m\u001b[0;34m\u001b[0m\u001b[0;34m\u001b[0m\u001b[0m\n\u001b[1;32m      4\u001b[0m \u001b[0;34m\u001b[0m\u001b[0m\n\u001b[1;32m      5\u001b[0m \u001b[0;31m# convert a position to the tensor representation used by the nn\u001b[0m\u001b[0;34m\u001b[0m\u001b[0;34m\u001b[0m\u001b[0;34m\u001b[0m\u001b[0m\n",
      "\u001b[0;31mNameError\u001b[0m: name 'surge' is not defined"
     ]
    }
   ],
   "source": [
    "# print surge pos using the chess module\n",
    "def pprint_pos(position: surge.Position):\n",
    "    print(chess.Board(position.fen()))\n",
    "\n",
    "# convert a position to the tensor representation used by the nn\n",
    "def pos_2_tensor(pos: surge.Position) -> torch.tensor:\n",
    "    bit_state = pos.bit_state()\n",
    "    bits = np.unpackbits(bit_state.view(np.uint8))\n",
    "    return torch.tensor(bits).float()"
   ]
  },
  {
   "cell_type": "code",
   "execution_count": 296,
   "metadata": {},
   "outputs": [],
   "source": [
    "# count and weight the material for each side, a very simple evaluation metric\n",
    "def static_material_eval(pos: surge.Position) -> float:\n",
    "    # 1 - pawn, 3 - knight, bishop, 5 - rook, 9 - queen, 50 - kign\n",
    "    type_value = [1, 3, 3, 5, 9, 50, 0, 0, -1, -3, -3, -5, -9, -50, 0]\n",
    "    bit_state = pos.bit_state()\n",
    "    score = 0\n",
    "    for type, bits in enumerate(bit_state):\n",
    "        score += bin(bits).count(\"1\") * type_value[type] # count the number of 1s and weight with the piece value\n",
    "    return score\n",
    "\n",
    "# return the score of the position - black, + white and if the game is over\n",
    "def eval_position(pos: surge.Position, nn) -> (float, bool):\n",
    "    \n",
    "    if len(pos.legals()) == 0:\n",
    "        if pos.in_check():\n",
    "            # in check and no legal moves left -> the side to play is checkmate\n",
    "            # if white is checkmate black gets an -infinit score and inf for black in checkmate\n",
    "            return (float(\"-inf\"), True) if pos.color_to_play == 0 else (float(\"inf\"), True)\n",
    "        # if there is no check but no move it is stalemate\n",
    "        return 0, True\n",
    "\n",
    "    # if the game is not over evaluate the board using the nn\n",
    "    # return nn.eval_position(pos_2_tensor(pos)), False\n",
    "    return static_material_eval(pos), False"
   ]
  },
  {
   "cell_type": "code",
   "execution_count": 297,
   "metadata": {},
   "outputs": [],
   "source": [
    "# a minmax tree search of each possible move util the max depth is reached using alpha beta pruning\n",
    "def minmax(pos: surge.Position, depth: int, alpha: float, beta: float, is_maximizing: bool) -> (float, surge.Move):\n",
    "    \n",
    "    score, is_gameover = eval_position(pos, None)\n",
    "    if is_gameover or depth is 0:\n",
    "        # stop the tree search and return, no move is returned because there are no legals or we stop exploring here\n",
    "        return score, []\n",
    "\n",
    "    print(\"\\t\" * (DEPTH - depth), end=\"\")\n",
    "    print(f\"minmax: color: {'W' if is_maximizing else 'B'} depth: {depth}\")\n",
    "    \n",
    "\n",
    "    best_moves = []\n",
    "    best_score = 0\n",
    "    # white wants to maximize the score\n",
    "    if is_maximizing:\n",
    "        best_score = float(\"-inf\")\n",
    "\n",
    "        for move in pos.legals():\n",
    "            pos.play(move)\n",
    "\n",
    "            print(\"\\t\" * (DEPTH - depth), end=\"\")\n",
    "            print(move)\n",
    "\n",
    "\n",
    "            score, next_moves = minmax(pos, depth - 1, alpha, beta, False)\n",
    "            pos.undo(move)\n",
    "\n",
    "            if score >= best_score:\n",
    "                best_score = score\n",
    "                best_moves = [move] + next_moves\n",
    "            alpha = max(alpha, score)\n",
    "\n",
    "            if alpha >= beta:\n",
    "                break\n",
    "\n",
    "        print(\"\\t\" * (DEPTH - depth), end=\"\")\n",
    "        print(f\"W best: {best_score}, {best_moves}\")\n",
    "\n",
    "    # black wants to minimize the score\n",
    "    else:\n",
    "        best_score = float(\"inf\")\n",
    "        \n",
    "        for move in pos.legals():\n",
    "            pos.play(move)\n",
    "\n",
    "            print(\"\\t\" * (DEPTH - depth), end=\"\")\n",
    "            print(move)\n",
    "\n",
    "            score, next_moves = minmax(pos, depth - 1, alpha, beta, True)\n",
    "            pos.undo(move)\n",
    "\n",
    "            if score <= best_score:\n",
    "                best_score = score\n",
    "                best_moves = [move] + next_moves\n",
    "            beta = min(beta, score)\n",
    "\n",
    "            if beta <= alpha:\n",
    "                break\n",
    "        \n",
    "        print(\"\\t\" * (DEPTH - depth), end=\"\")\n",
    "        print(f\"B best: {best_score}, {best_moves}\")\n",
    "\n",
    "    return best_score, best_moves\n",
    "\n",
    "def find_best_move(pos, depth):\n",
    "    move = None\n",
    "    for i in range(depth, depth + 1):\n",
    "        score, move = minmax(pos, i, float(\"-inf\"), float(\"inf\"), pos.color_to_play() == 0)\n",
    "        if score in [float(\"-inf\"), float(\"inf\")]:\n",
    "            return score, move\n",
    "    return score, move"
   ]
  },
  {
   "cell_type": "code",
   "execution_count": null,
   "metadata": {},
   "outputs": [],
   "source": [
    "pos = surge.Position()\n",
    "surge.Position.set(\"r1bk3r/1pp2ppp/pb1p1n2/n2P4/B3P1q1/2Q2N2/PB3PPP/RN3RK1 w - - 0 1\", pos)\n",
    "pprint_pos(pos)\n",
    "game_over = False\n",
    "while not game_over:\n",
    "    move = find_best_move(pos, 4)\n",
    "    print(move)\n",
    "    pos.play(move)\n",
    "    pprint_pos(pos)\n",
    "    score, game_over = eval_position(pos, None)\n",
    "\n",
    "print(eval_position(pos, None))\n",
    "pprint_pos(pos)"
   ]
  },
  {
   "cell_type": "code",
   "execution_count": 94,
   "metadata": {},
   "outputs": [
    {
     "output_type": "execute_result",
     "data": {
      "text/plain": [
       "[a1a1]"
      ]
     },
     "metadata": {},
     "execution_count": 94
    }
   ],
   "source": [
    "move = surge.Move()\n",
    "[move] + []"
   ]
  }
 ]
}