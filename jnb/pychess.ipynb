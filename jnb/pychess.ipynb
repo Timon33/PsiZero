{
 "metadata": {
  "language_info": {
   "codemirror_mode": {
    "name": "ipython",
    "version": 3
   },
   "file_extension": ".py",
   "mimetype": "text/x-python",
   "name": "python",
   "nbconvert_exporter": "python",
   "pygments_lexer": "ipython3",
   "version": "3.8.5-final"
  },
  "orig_nbformat": 2,
  "kernelspec": {
   "name": "python3",
   "display_name": "Python 3",
   "language": "python"
  }
 },
 "nbformat": 4,
 "nbformat_minor": 2,
 "cells": [
  {
   "cell_type": "code",
   "execution_count": 10,
   "metadata": {},
   "outputs": [],
   "source": [
    "import numpy as np\n",
    "import torch\n",
    "import chess"
   ]
  },
  {
   "cell_type": "code",
   "execution_count": 14,
   "metadata": {},
   "outputs": [],
   "source": [
    "# convert a position to the tensor representation used by the nn\n",
    "def board_2_tensor(board: chess.Board) -> torch.tensor:\n",
    "    nums = np.empty(13, dtype=np.uint64)\n",
    "    for i in range(6):\n",
    "        nums[i] = int(board.pieces(i + 1, chess.WHITE))\n",
    "        nums[i + 6] = int(board.pieces(i + 1, chess.BLACK))\n",
    "\n",
    "    nums[12] = 1 << board.ep_square if board.has_legal_en_passant() else 0\n",
    "\n",
    "    bits = np.unpackbits(nums.view(np.uint8))\n",
    "    return torch.tensor(bits).float()\n",
    "\n",
    "def moves_2_str(moves):\n",
    "    s = \"\"\n",
    "    for m in moves:\n",
    "        s += str(m) + \" \"\n",
    "    return s + \"\\n\""
   ]
  },
  {
   "cell_type": "code",
   "execution_count": 15,
   "metadata": {},
   "outputs": [],
   "source": [
    "import torch\n",
    "import torch.nn as nn\n",
    "\n",
    "\n",
    "class NN(torch.nn.Module):\n",
    "\n",
    "    def __init__(self):\n",
    "        super().__init__()\n",
    "\n",
    "        self.l1 = nn.Linear(832, 512)\n",
    "        self.l2 = nn.Linear(512, 256)\n",
    "        self.l3 = nn.Linear(256, 128)\n",
    "        self.l4 = nn.Linear(128, 1)\n",
    "\n",
    "    def forward(self, x):\n",
    "        x = self.l1(x)\n",
    "        x = self.l2(x)\n",
    "        x = self.l3(x)\n",
    "        x = self.l4(x)\n",
    "        return x"
   ]
  },
  {
   "cell_type": "code",
   "execution_count": 16,
   "metadata": {},
   "outputs": [],
   "source": [
    "# count and weight the material for each side, a very simple evaluation metric\n",
    "def static_material_eval(board: chess.Board) -> float:\n",
    "    # 1 - pawn, 3 - knight, bishop, 5 - rook, 9 - queen, 50 - king\n",
    "    type_value = [1, 3, 3, 5, 9, 50]\n",
    "    \n",
    "    score = 0\n",
    "    for i in range(6):\n",
    "        score += bin(int(board.pieces(i + 1, chess.WHITE))).count(\"1\") * type_value[i] # count the number of 1s and weight with the piece value\n",
    "        score -= bin(int(board.pieces(i + 1, chess.BLACK))).count(\"1\") * type_value[i]\n",
    "    return score\n",
    "\n",
    "# return the score of the position - black, + white and if the game is over\n",
    "def eval_position(board: chess.Board, nn) -> (float, bool):\n",
    "    \n",
    "    if board.is_game_over():\n",
    "        if board.is_checkmate():\n",
    "            # if white is checkmate black gets an -infinit score and inf for black in checkmate\n",
    "            return (float(\"-inf\"), True) if board.turn else (float(\"inf\"), True)\n",
    "        # 0 score for a draw\n",
    "        return 0, True\n",
    "\n",
    "    # if the game is not over evaluate the board using the nn\n",
    "    return nn.forward(board_2_tensor(board)), False\n",
    "    # return static_material_eval(board), False"
   ]
  },
  {
   "cell_type": "code",
   "execution_count": 17,
   "metadata": {},
   "outputs": [],
   "source": [
    "# a minmax tree search of each possible move util the max depth is reached using alpha beta pruning\n",
    "def minmax(board: chess.Board, model: NN, depth: int, alpha: float, beta: float, is_maximizing: bool) -> (float, chess.Move):\n",
    "    \n",
    "    score, is_gameover = eval_position(board, model)\n",
    "    if is_gameover or depth is 0:\n",
    "        # stop the tree search and return, no move is returned because there are no legals or we stop exploring here\n",
    "        return score, []\n",
    "\n",
    "    best_moves = []\n",
    "    best_score = 0\n",
    "    # white wants to maximize the score\n",
    "    if is_maximizing:\n",
    "        best_score = float(\"-inf\")\n",
    "\n",
    "        for move in board.generate_legal_moves():\n",
    "            board.push(move)\n",
    "            score, next_moves = minmax(board, model, depth - 1, alpha, beta, False)\n",
    "            board.pop()\n",
    "\n",
    "            if score >= best_score:\n",
    "                best_score = score\n",
    "                best_moves = [move] + next_moves\n",
    "            alpha = max(alpha, score)\n",
    "\n",
    "            if alpha >= beta:\n",
    "                break\n",
    "\n",
    "    # black wants to minimize the score\n",
    "    else:\n",
    "        best_score = float(\"inf\")\n",
    "        \n",
    "        for move in board.generate_legal_moves():\n",
    "            board.push(move)\n",
    "            score, next_moves = minmax(board, model, depth - 1, alpha, beta, True)\n",
    "            board.pop()\n",
    "\n",
    "            if score <= best_score:\n",
    "                best_score = score\n",
    "                best_moves = [move] + next_moves\n",
    "            beta = min(beta, score)\n",
    "\n",
    "            if beta <= alpha:\n",
    "                break\n",
    "\n",
    "    return best_score, best_moves\n",
    "\n",
    "def find_best_move(board, model, depth):\n",
    "    move = None\n",
    "    for i in range(depth + 1):\n",
    "        score, move = minmax(board, model, i, float(\"-inf\"), float(\"inf\"), board.turn)\n",
    "        if score in [float(\"-inf\"), float(\"inf\")]:\n",
    "            return score, move\n",
    "    return score, move"
   ]
  },
  {
   "cell_type": "code",
   "execution_count": 38,
   "metadata": {},
   "outputs": [],
   "source": [
    "def play_game(depth: int, model: NN):\n",
    "    b = chess.Board()\n",
    "    positions = np.empty([0, 832])\n",
    "\n",
    "    game_over = False\n",
    "    i = 0\n",
    "    while not game_over:\n",
    "        positions = np.append(positions, board_2_tensor(b))\n",
    "\n",
    "        score, moves = find_best_move(b, model, 2)\n",
    "        b.push(moves[0])\n",
    "        game_over = b.is_game_over()\n",
    "        i += 1\n",
    "    result, _ = eval_position(b, model)\n",
    "    return positions, result"
   ]
  },
  {
   "cell_type": "code",
   "execution_count": 36,
   "metadata": {},
   "outputs": [
    {
     "output_type": "execute_result",
     "data": {
      "text/plain": [
       "840320"
      ]
     },
     "metadata": {},
     "execution_count": 36
    }
   ],
   "source": [
    "64 * 13 * b.ply()"
   ]
  }
 ]
}